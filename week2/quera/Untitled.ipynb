{
 "cells": [
  {
   "cell_type": "code",
   "execution_count": 1,
   "id": "58b94578",
   "metadata": {},
   "outputs": [],
   "source": [
    "import csv\n",
    "\n",
    "all_words = {}\n",
    "sections = ['esm', 'famil', 'keshvar', 'rang', 'ashia', 'ghaza']\n",
    "participants = []\n",
    "for section in sections:\n",
    "    all_words[section] = []\n",
    "    \n",
    "def normalize(s):\n",
    "    if not s:\n",
    "        return ''\n",
    "    return (s.replace(' ', ''))\n"
   ]
  },
  {
   "cell_type": "code",
   "execution_count": 8,
   "id": "3c17dfeb",
   "metadata": {},
   "outputs": [],
   "source": [
    "def ready_up():\n",
    "    csvdata = open(r'C:\\Users\\Asus\\Downloads\\esm_famil_data.csv',encoding= 'utf8')\n",
    "    reader = csv.reader(csvdata)\n",
    "    next(reader)\n",
    "    for row in reader:\n",
    "        all_words['esm'].append(normalize(row[0]))\n",
    "        all_words['famil'].append(normalize(row[1]))\n",
    "        all_words['keshvar'].append(normalize(row[2]))\n",
    "        all_words['rang'].append(normalize(row[3]))\n",
    "        all_words['ashia'].append(normalize(row[4]))\n",
    "        all_words['ghaza'].append(normalize(row[5]))\n",
    "\n",
    "\n",
    "ready_up()\n"
   ]
  },
  {
   "cell_type": "code",
   "execution_count": 9,
   "id": "dc56a90e",
   "metadata": {},
   "outputs": [
    {
     "name": "stdout",
     "output_type": "stream",
     "text": [
      "[{'name': 'salib', 'answers': {'esm': 'بردیا', 'famil': 'بابایی', 'keshvar': 'باربادوس', 'rang': 'بنفش', 'ashia': 'بمب', 'ghaza': 'باقالیپلو'}}, {'name': 'kianoush', 'answers': {'esm': 'بهرام', 'famil': 'بهرامی', 'keshvar': 'برزیل', 'rang': 'بلوطی', 'ashia': 'بیل', 'ghaza': 'بهپلو'}}, {'name': 'sajjad', 'answers': {'esm': 'بابک', 'famil': 'بهشتی', 'keshvar': 'باهاما', 'rang': 'بژ', 'ashia': '', 'ghaza': 'برنجخورشت'}}, {'name': 'farhad', 'answers': {'esm': 'بهرام', 'famil': 'براتی', 'keshvar': 'بببببب', 'rang': 'بژ', 'ashia': 'بیل', 'ghaza': 'باقلوا'}}, {'name': 'salib', 'answers': {'esm': 'بردیا', 'famil': 'بابایی', 'keshvar': 'باربادوس', 'rang': 'بنفش', 'ashia': 'بمب', 'ghaza': 'باقالیپلو'}}, {'name': 'kianoush', 'answers': {'esm': 'بهرام', 'famil': 'بهرامی', 'keshvar': 'برزیل', 'rang': 'بلوطی', 'ashia': 'بیل', 'ghaza': 'بهپلو'}}, {'name': 'sajjad', 'answers': {'esm': 'بابک', 'famil': 'بهشتی', 'keshvar': 'باهاما', 'rang': 'بژ', 'ashia': '', 'ghaza': 'برنجخورشت'}}, {'name': 'farhad', 'answers': {'esm': 'بهرام', 'famil': 'براتی', 'keshvar': 'بببببب', 'rang': 'بژ', 'ashia': 'بیل', 'ghaza': 'باقلوا'}}]\n"
     ]
    }
   ],
   "source": [
    "def add_participant(participant, answers):\n",
    "    for section in sections:\n",
    "        answers[section] = normalize(answers[section])\n",
    "    participants.append({'name': participant, 'answers': answers})\n",
    "\n",
    "\n",
    "add_participant(participant = 'salib', answers = {'esm': 'بردیا', 'famil': 'بابایی', 'keshvar': 'باربادوس', 'rang': 'بنفش', 'ashia': 'بمب', 'ghaza': 'باقالیپلو'})\n",
    "add_participant(participant = 'kianoush', answers = {'esm': 'بهرام', 'famil': 'بهرامی', 'keshvar': 'برزیل', 'rang': 'بلوطی', 'ashia': 'بیل', 'ghaza': 'به   پلو'})\n",
    "add_participant(participant = 'sajjad', answers = {'esm': 'بابک', 'famil': 'بهشتی', 'keshvar': 'باهاما', 'rang': 'بژ', 'ashia': '        ', 'ghaza': 'برنج خورشت'})\n",
    "add_participant(participant = 'farhad', answers = {'esm': 'بهرام', 'famil': 'براتی', 'keshvar': 'بببببب', 'rang': 'بژ', 'ashia': 'بیل', 'ghaza': 'باقلوا'})\n",
    "print(participants)"
   ]
  },
  {
   "cell_type": "code",
   "execution_count": 10,
   "id": "b415592a",
   "metadata": {},
   "outputs": [
    {
     "name": "stdout",
     "output_type": "stream",
     "text": [
      "working on salib {'esm': 'بردیا', 'famil': 'بابایی', 'keshvar': 'باربادوس', 'rang': 'بنفش', 'ashia': 'بمب', 'ghaza': 'باقالیپلو'}\n",
      "working on kianoush {'esm': 'بهرام', 'famil': 'بهرامی', 'keshvar': 'برزیل', 'rang': 'بلوطی', 'ashia': 'بیل', 'ghaza': 'بهپلو'}\n",
      "working on sajjad {'esm': 'بابک', 'famil': 'بهشتی', 'keshvar': 'باهاما', 'rang': 'بژ', 'ashia': '', 'ghaza': 'برنجخورشت'}\n",
      "working on farhad {'esm': 'بهرام', 'famil': 'براتی', 'keshvar': 'بببببب', 'rang': 'بژ', 'ashia': 'بیل', 'ghaza': 'باقلوا'}\n",
      "working on salib {'esm': 'بردیا', 'famil': 'بابایی', 'keshvar': 'باربادوس', 'rang': 'بنفش', 'ashia': 'بمب', 'ghaza': 'باقالیپلو'}\n",
      "working on kianoush {'esm': 'بهرام', 'famil': 'بهرامی', 'keshvar': 'برزیل', 'rang': 'بلوطی', 'ashia': 'بیل', 'ghaza': 'بهپلو'}\n",
      "working on sajjad {'esm': 'بابک', 'famil': 'بهشتی', 'keshvar': 'باهاما', 'rang': 'بژ', 'ashia': '', 'ghaza': 'برنجخورشت'}\n",
      "working on farhad {'esm': 'بهرام', 'famil': 'براتی', 'keshvar': 'بببببب', 'rang': 'بژ', 'ashia': 'بیل', 'ghaza': 'باقلوا'}\n",
      "{'salib': 65, 'kianoush': 55, 'sajjad': 45, 'farhad': 40}\n"
     ]
    }
   ],
   "source": [
    "def calculate_all():\n",
    "    scores = {}\n",
    "    for participant in participants:\n",
    "        this_name = participant['name']\n",
    "        this_answers = participant['answers']\n",
    "        print('working on',this_name,this_answers)\n",
    "        scores[this_name] = 0\n",
    "        for section in sections:\n",
    "            this_answer = normalize(this_answers.get(section,False))\n",
    "            if not this_answer or this_answer not in all_words[section]:\n",
    "                score = 0\n",
    "            else:\n",
    "                duplicate = False\n",
    "                all_answered = True\n",
    "                for other in participants:\n",
    "                    if this_name == other['name']:\n",
    "                        continue\n",
    "                    other_answer = normalize(other['answers'][section])\n",
    "                    if other_answer == this_answer:\n",
    "                        duplicate = True\n",
    "                    if not normalize(other_answer):\n",
    "                        all_answered = False\n",
    "                if all_answered and duplicate:\n",
    "                    score = 5\n",
    "                if not all_answered and duplicate:\n",
    "                    score = 10\n",
    "                if all_answered and not duplicate:\n",
    "                    score = 10\n",
    "                if not all_answered and not duplicate:\n",
    "                    score = 15\n",
    "            scores[this_name] += score\n",
    "    return scores\n",
    "print(calculate_all())\n"
   ]
  },
  {
   "cell_type": "code",
   "execution_count": null,
   "id": "3af7c80a",
   "metadata": {},
   "outputs": [],
   "source": []
  }
 ],
 "metadata": {
  "kernelspec": {
   "display_name": "Python 3 (ipykernel)",
   "language": "python",
   "name": "python3"
  },
  "language_info": {
   "codemirror_mode": {
    "name": "ipython",
    "version": 3
   },
   "file_extension": ".py",
   "mimetype": "text/x-python",
   "name": "python",
   "nbconvert_exporter": "python",
   "pygments_lexer": "ipython3",
   "version": "3.9.7"
  }
 },
 "nbformat": 4,
 "nbformat_minor": 5
}
